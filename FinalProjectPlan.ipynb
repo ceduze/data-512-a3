{
 "cells": [
  {
   "cell_type": "markdown",
   "metadata": {},
   "source": [
    "# Assignment 3 - Final Project Plan\n",
    "\n",
    "\n",
    "### Background\n",
    "Deciding on where to eat is a very common problem for people with means and options. Besides factors like taste, ambience and experience, one underlying assumption is food safety. People often assume that restaurant they choose to eat at meets the safety standards, and if they have any reason to suspect it doesn't they are unlikely to eat there. Once in a while, an establishment makes the news for some egregious act or multiple complaints of food poisoning. There is however a lot of grey area between the safest restaurants and those that make the news. Some people are not aware of the King County Food Safety Inspection and Reporting. Fewer are aware of the Food Establishment Inspection Data set available in the King County Open Data initiative. Even fewer can easily make sense of it.\n",
    "\n",
    "### Objective\n",
    "This goal of this project is to process and analyze the rich data available in the King County Inspection dataset and extract valuable insights that can be easily consumed by users without the need for a data science background or resources. Some questions we'll consider exploring are:\n",
    "* Can we easily identify safer restaurants from the dataset? Which restaurants are better than others in terms of Food Safety.\n",
    "* What is the effect of the Food Inspections? Are establishments getting better over time?\n",
    "* How are food establishments distributed? Which cities besides Seattle have the highest concentration?\n",
    "* Is there bias in how the food inspections are conducted?\n",
    "* How does cities compare both in terms restaurants per population and ratio of safer restaurants?\n",
    "* (Out of scope) Does Yelp ratings correlate with Food Safety Ratings. I'll defer to open data science to anser this :)\n",
    "\n",
    "\n",
    "### Data Sources\n",
    "**Food Establishment Inspection Data**\n",
    "This data set contains Health Department inspection results for food service establishments in King County, from 2006 to the present. However for this project, I'll only be looking at one year's worth of data from November 2016 to October 2017. Information about the dataset, schema and API can be found here: https://data.kingcounty.gov/Health/Food-Establishment-Inspection-Data/f29f-zza5\n",
    "\n",
    "**2016 King County and Its Cities Population**\n",
    "This dataset contains the Office of Financial Management(OFM) 2016 population estimate for cities in King County's. It is a downloadable csv, however it requires some manual processing to programmatically accessed. Additional information including the download can be found here:\n",
    "http://www.kingcounty.gov/depts/executive/performance-strategy-budget/regional-planning/Demographics.aspx\n",
    "\n",
    "**2016 King County City Land Area Data**\n",
    "I have not found this yet. If I'm able to I'll include in my research, otherwise I'll do with it.\n",
    "\n",
    "### Data Processing and Analysis\n",
    "* I'll be using the Socrata API to get the dataset for the Food Establishment Inspection\n",
    "* The raw Food Establishment Inspection Dataset may contain duplicate rows for a single inspection, listing out all the violations. I plan to aggregate this and other relevant information into a single row per restaurant. \n",
    "* I'll have to join the Food Establishment dataset with the cities population dataset. I'll only keep rows where the city exists in both datasets.\n",
    "* For 3-5 semi-randomly selected cities, I'll show the Top 10 safest and unsafe restaurants based on inspection results. I'll also make a dataset available, so anyone can download and filter as needed, e.g. City of interest.\n",
    "* I'll also do aggregation at the city level to uncover insights at the city level.\n",
    "* I'll compare the number of restaurants with the population of the cities. I'll be looking for testing for correlation (using statistical methods) between city population and number of restaurants. My hypothesis is that besides Seattle, the correlation may not be as strong for other cities. For example, is Sammamish an exception to the correlation or is there no correlation.\n",
    "* I'll also compare the ratio of passing (and failing) restaurants to the total number of restaurants in the city. Are some cities\n",
    "* I'll also be looking at average number of inspections per restaurants for each city and see if there is bias towards the bigger cities.\n",
    "* I'll use appropriate visualizations that are easy to interpret. I'll plan to adopt best practices for Data Visualization.\n",
    "\n",
    "### Human-Centered Considerations\n",
    "* This audience for this project is most likely King County residents. However, it is more for King County residents who have the means and opportunities to be picky about where they eat.\n",
    "* For these audience, this will have minimal (convenience not essential) effect. It should be informational. I do not expect significant life changes as a result of this.\n",
    "* Where applicable I will make the results of my analysis available as downloadable datasets, in addition to the visualizations. These datasets will not be maintained or updated but it should reproducible from the iPython notebook.\n",
    "* I expect people could be interested in questions like: \"How does my city compare?\" or \"Where does my favorite restaurant fit?\".\n",
    "* I will look for evidence of bias especially for data aggregated at the city level.\n",
    "* I need to understand how well informed Restaurant owners are about their consent, if any, with this data being available publicly and how is that balanced with Public Safety.\n",
    "* I recognize that there are more interesting insights that can be gather from this data than what I am able to provide with the time constraints. I hope that this will spark some more interest in the Food Inspection Dataset and encourage others to do and share more analysis, especially with joining other datasets. \n",
    "* One question I had hoped to answer, but will be throwing out to the Open Data Science community is \"Is there a correlation  with Food Safety and Yelp Restaurant ratings?\" Yelp is working on displaying Food Inspection Ratings on the site along with reviews. However this is only available in limited cities. Seattle and King County and not one of them. More info is available here: https://www.yelp.com/healthscores\n",
    "\n",
    "\n"
   ]
  },
  {
   "cell_type": "code",
   "execution_count": null,
   "metadata": {},
   "outputs": [],
   "source": []
  }
 ],
 "metadata": {
  "kernelspec": {
   "display_name": "Python 3",
   "language": "python",
   "name": "python3"
  },
  "language_info": {
   "codemirror_mode": {
    "name": "ipython",
    "version": 3
   },
   "file_extension": ".py",
   "mimetype": "text/x-python",
   "name": "python",
   "nbconvert_exporter": "python",
   "pygments_lexer": "ipython3",
   "version": "3.6.2"
  }
 },
 "nbformat": 4,
 "nbformat_minor": 2
}
